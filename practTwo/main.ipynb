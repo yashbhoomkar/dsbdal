{
 "cells": [
  {
   "cell_type": "code",
   "execution_count": null,
   "id": "6eac3f1b",
   "metadata": {},
   "outputs": [],
   "source": [
    "# Create an “Academic performance” dataset of students and\n",
    "# perform the following operations using Python.\n",
    "# 1. Scan all variables for missing values and inconsistencies. If\n",
    "# there are missing values and/or inconsistencies, use any of\n",
    "# the suitable techniques to deal with them.\n",
    "# 2. Scan all numeric variables for outliers. If there are outliers,\n",
    "# use any of the suitable techniques to deal with them.\n",
    "# 3. Apply data transformations on at least one of the variables.\n",
    "# The purpose of this transformation should be one of the\n",
    "# following reasons: to change the scale for better\n",
    "# understanding of the variable, to convert a non-linear relation\n",
    "# into a linear one, or to decrease the skewness and convert the\n",
    "# distribution into a normal distribution.\n",
    "# Reason and document your approach properly."
   ]
  },
  {
   "cell_type": "code",
   "execution_count": 1,
   "id": "e1557a14",
   "metadata": {},
   "outputs": [],
   "source": [
    "import pandas as pd\n",
    "import numpy as np\n",
    "import matplotlib.pyplot as plt\n",
    "import seaborn as sns"
   ]
  },
  {
   "cell_type": "code",
   "execution_count": 4,
   "id": "cfa46304",
   "metadata": {},
   "outputs": [
    {
     "data": {
      "text/html": [
       "<div>\n",
       "<style scoped>\n",
       "    .dataframe tbody tr th:only-of-type {\n",
       "        vertical-align: middle;\n",
       "    }\n",
       "\n",
       "    .dataframe tbody tr th {\n",
       "        vertical-align: top;\n",
       "    }\n",
       "\n",
       "    .dataframe thead th {\n",
       "        text-align: right;\n",
       "    }\n",
       "</style>\n",
       "<table border=\"1\" class=\"dataframe\">\n",
       "  <thead>\n",
       "    <tr style=\"text-align: right;\">\n",
       "      <th></th>\n",
       "      <th>gender</th>\n",
       "      <th>race/ethnicity</th>\n",
       "      <th>parental level of education</th>\n",
       "      <th>lunch</th>\n",
       "      <th>test preparation course</th>\n",
       "      <th>math score</th>\n",
       "      <th>reading score</th>\n",
       "      <th>writing score</th>\n",
       "    </tr>\n",
       "  </thead>\n",
       "  <tbody>\n",
       "    <tr>\n",
       "      <th>0</th>\n",
       "      <td>female</td>\n",
       "      <td>group B</td>\n",
       "      <td>bachelor's degree</td>\n",
       "      <td>standard</td>\n",
       "      <td>none</td>\n",
       "      <td>72</td>\n",
       "      <td>72</td>\n",
       "      <td>74</td>\n",
       "    </tr>\n",
       "    <tr>\n",
       "      <th>1</th>\n",
       "      <td>female</td>\n",
       "      <td>group C</td>\n",
       "      <td>some college</td>\n",
       "      <td>standard</td>\n",
       "      <td>completed</td>\n",
       "      <td>69</td>\n",
       "      <td>90</td>\n",
       "      <td>88</td>\n",
       "    </tr>\n",
       "    <tr>\n",
       "      <th>2</th>\n",
       "      <td>female</td>\n",
       "      <td>group B</td>\n",
       "      <td>master's degree</td>\n",
       "      <td>standard</td>\n",
       "      <td>none</td>\n",
       "      <td>90</td>\n",
       "      <td>95</td>\n",
       "      <td>93</td>\n",
       "    </tr>\n",
       "    <tr>\n",
       "      <th>3</th>\n",
       "      <td>male</td>\n",
       "      <td>group A</td>\n",
       "      <td>associate's degree</td>\n",
       "      <td>free/reduced</td>\n",
       "      <td>none</td>\n",
       "      <td>47</td>\n",
       "      <td>57</td>\n",
       "      <td>44</td>\n",
       "    </tr>\n",
       "    <tr>\n",
       "      <th>4</th>\n",
       "      <td>male</td>\n",
       "      <td>group C</td>\n",
       "      <td>some college</td>\n",
       "      <td>standard</td>\n",
       "      <td>none</td>\n",
       "      <td>76</td>\n",
       "      <td>78</td>\n",
       "      <td>75</td>\n",
       "    </tr>\n",
       "  </tbody>\n",
       "</table>\n",
       "</div>"
      ],
      "text/plain": [
       "   gender race/ethnicity parental level of education         lunch  \\\n",
       "0  female        group B           bachelor's degree      standard   \n",
       "1  female        group C                some college      standard   \n",
       "2  female        group B             master's degree      standard   \n",
       "3    male        group A          associate's degree  free/reduced   \n",
       "4    male        group C                some college      standard   \n",
       "\n",
       "  test preparation course  math score  reading score  writing score  \n",
       "0                    none          72             72             74  \n",
       "1               completed          69             90             88  \n",
       "2                    none          90             95             93  \n",
       "3                    none          47             57             44  \n",
       "4                    none          76             78             75  "
      ]
     },
     "execution_count": 4,
     "metadata": {},
     "output_type": "execute_result"
    }
   ],
   "source": [
    "df = pd.read_csv(\"/Users/yashbhoomkar/Desktop/pythonCodes/practical/practTwo/dataset.csv\")\n",
    "df.head()"
   ]
  },
  {
   "cell_type": "code",
   "execution_count": 7,
   "id": "8f881e99",
   "metadata": {},
   "outputs": [],
   "source": [
    "df = df.rename(columns={\n",
    "    \"gender\" : \"sex\" ,\n",
    "    \"race/ethnicity\" : \"race\",\n",
    "    \"parental level of education\" : \"parent_education\",\n",
    "    \"lunch\" : \"meal\",\n",
    "    \"test preparation course\" : \"prep_course\",\n",
    "    \"math score\" : \"math_score\",\n",
    "    \"reading score\" : \"reading_score\",\n",
    "    \"writing score\" : \"writing_score\", \n",
    "                   })"
   ]
  },
  {
   "cell_type": "code",
   "execution_count": 8,
   "id": "2365cf4d",
   "metadata": {},
   "outputs": [
    {
     "data": {
      "text/html": [
       "<div>\n",
       "<style scoped>\n",
       "    .dataframe tbody tr th:only-of-type {\n",
       "        vertical-align: middle;\n",
       "    }\n",
       "\n",
       "    .dataframe tbody tr th {\n",
       "        vertical-align: top;\n",
       "    }\n",
       "\n",
       "    .dataframe thead th {\n",
       "        text-align: right;\n",
       "    }\n",
       "</style>\n",
       "<table border=\"1\" class=\"dataframe\">\n",
       "  <thead>\n",
       "    <tr style=\"text-align: right;\">\n",
       "      <th></th>\n",
       "      <th>sex</th>\n",
       "      <th>race</th>\n",
       "      <th>parent_education</th>\n",
       "      <th>meal</th>\n",
       "      <th>prep_course</th>\n",
       "      <th>math_score</th>\n",
       "      <th>reading_score</th>\n",
       "      <th>writing_score</th>\n",
       "    </tr>\n",
       "  </thead>\n",
       "  <tbody>\n",
       "    <tr>\n",
       "      <th>0</th>\n",
       "      <td>female</td>\n",
       "      <td>group B</td>\n",
       "      <td>bachelor's degree</td>\n",
       "      <td>standard</td>\n",
       "      <td>none</td>\n",
       "      <td>72</td>\n",
       "      <td>72</td>\n",
       "      <td>74</td>\n",
       "    </tr>\n",
       "    <tr>\n",
       "      <th>1</th>\n",
       "      <td>female</td>\n",
       "      <td>group C</td>\n",
       "      <td>some college</td>\n",
       "      <td>standard</td>\n",
       "      <td>completed</td>\n",
       "      <td>69</td>\n",
       "      <td>90</td>\n",
       "      <td>88</td>\n",
       "    </tr>\n",
       "    <tr>\n",
       "      <th>2</th>\n",
       "      <td>female</td>\n",
       "      <td>group B</td>\n",
       "      <td>master's degree</td>\n",
       "      <td>standard</td>\n",
       "      <td>none</td>\n",
       "      <td>90</td>\n",
       "      <td>95</td>\n",
       "      <td>93</td>\n",
       "    </tr>\n",
       "    <tr>\n",
       "      <th>3</th>\n",
       "      <td>male</td>\n",
       "      <td>group A</td>\n",
       "      <td>associate's degree</td>\n",
       "      <td>free/reduced</td>\n",
       "      <td>none</td>\n",
       "      <td>47</td>\n",
       "      <td>57</td>\n",
       "      <td>44</td>\n",
       "    </tr>\n",
       "    <tr>\n",
       "      <th>4</th>\n",
       "      <td>male</td>\n",
       "      <td>group C</td>\n",
       "      <td>some college</td>\n",
       "      <td>standard</td>\n",
       "      <td>none</td>\n",
       "      <td>76</td>\n",
       "      <td>78</td>\n",
       "      <td>75</td>\n",
       "    </tr>\n",
       "  </tbody>\n",
       "</table>\n",
       "</div>"
      ],
      "text/plain": [
       "      sex     race    parent_education          meal prep_course  math_score  \\\n",
       "0  female  group B   bachelor's degree      standard        none          72   \n",
       "1  female  group C        some college      standard   completed          69   \n",
       "2  female  group B     master's degree      standard        none          90   \n",
       "3    male  group A  associate's degree  free/reduced        none          47   \n",
       "4    male  group C        some college      standard        none          76   \n",
       "\n",
       "   reading_score  writing_score  \n",
       "0             72             74  \n",
       "1             90             88  \n",
       "2             95             93  \n",
       "3             57             44  \n",
       "4             78             75  "
      ]
     },
     "execution_count": 8,
     "metadata": {},
     "output_type": "execute_result"
    }
   ],
   "source": [
    "df.head()"
   ]
  },
  {
   "cell_type": "code",
   "execution_count": 9,
   "id": "65fe845e",
   "metadata": {},
   "outputs": [
    {
     "data": {
      "text/plain": [
       "sex                 0\n",
       "race                0\n",
       "parent_education    0\n",
       "meal                0\n",
       "prep_course         0\n",
       "math_score          0\n",
       "reading_score       0\n",
       "writing_score       0\n",
       "dtype: int64"
      ]
     },
     "execution_count": 9,
     "metadata": {},
     "output_type": "execute_result"
    }
   ],
   "source": [
    "df.isnull().sum()"
   ]
  },
  {
   "cell_type": "code",
   "execution_count": 10,
   "id": "e66adefe",
   "metadata": {},
   "outputs": [
    {
     "data": {
      "text/plain": [
       "<Axes: ylabel='writing_score'>"
      ]
     },
     "execution_count": 10,
     "metadata": {},
     "output_type": "execute_result"
    },
    {
     "data": {
      "image/png": "[encoded data removed]",
      "text/plain": [
       "<Figure size 1500x500 with 3 Axes>"
      ]
     },
     "metadata": {},
     "output_type": "display_data"
    }
   ],
   "source": [
    "fig , axes = plt.subplots(1 , 3 , figsize = (15 , 5))\n",
    "\n",
    "sns.boxplot(data = df[\"math_score\"] , ax = axes[0])\n",
    "sns.boxplot(data = df[\"reading_score\"] , ax = axes[1])\n",
    "sns.boxplot(data = df[\"writing_score\"] , ax = axes[2])"
   ]
  },
  {
   "cell_type": "code",
   "execution_count": 11,
   "id": "bde91965",
   "metadata": {},
   "outputs": [],
   "source": [
    "def remove_outliers(feature):\n",
    "    global df\n",
    "    q3 = np.percentile(df[feature] , 75)\n",
    "    q1 = np.percentile(df[feature] , 25)\n",
    "\n",
    "    iqr = q3 - q1\n",
    "\n",
    "    df = df[ (df[feature] <= q3 + 1.5 * iqr)  & (df[feature] >= q1 - 1.5 * iqr) ]"
   ]
  },
  {
   "cell_type": "code",
   "execution_count": 12,
   "id": "a59c0826",
   "metadata": {},
   "outputs": [],
   "source": [
    "remove_outliers(\"math_score\")\n",
    "remove_outliers(\"reading_score\")\n",
    "remove_outliers(\"writing_score\")"
   ]
  },
  {
   "cell_type": "code",
   "execution_count": 14,
   "id": "7c327dab",
   "metadata": {},
   "outputs": [
    {
     "data": {
      "text/plain": [
       "<Axes: ylabel='writing_score'>"
      ]
     },
     "execution_count": 14,
     "metadata": {},
     "output_type": "execute_result"
    },
    {
     "data": {
      "image/png": "[encoded data removed]",
      "text/plain": [
       "<Figure size 1500x500 with 3 Axes>"
      ]
     },
     "metadata": {},
     "output_type": "display_data"
    }
   ],
   "source": [
    "fig , axes = plt.subplots(1 , 3 , figsize = (15 , 5))\n",
    "\n",
    "sns.boxplot(data = df[\"math_score\"] , ax = axes[0])\n",
    "sns.boxplot(data = df[\"reading_score\"] , ax = axes[1])\n",
    "sns.boxplot(data = df[\"writing_score\"] , ax = axes[2])\n"
   ]
  },
  {
   "cell_type": "code",
   "execution_count": 15,
   "id": "c16769e7",
   "metadata": {},
   "outputs": [
    {
     "data": {
      "text/plain": [
       "sex                 object\n",
       "race                object\n",
       "parent_education    object\n",
       "meal                object\n",
       "prep_course         object\n",
       "math_score           int64\n",
       "reading_score        int64\n",
       "writing_score        int64\n",
       "dtype: object"
      ]
     },
     "execution_count": 15,
     "metadata": {},
     "output_type": "execute_result"
    }
   ],
   "source": [
    "df.dtypes"
   ]
  },
  {
   "cell_type": "code",
   "execution_count": 16,
   "id": "9339136f",
   "metadata": {},
   "outputs": [
    {
     "data": {
      "text/plain": [
       "race\n",
       "group C    315\n",
       "group D    261\n",
       "group B    183\n",
       "group E    139\n",
       "group A     88\n",
       "Name: count, dtype: int64"
      ]
     },
     "execution_count": 16,
     "metadata": {},
     "output_type": "execute_result"
    }
   ],
   "source": [
    "df[\"race\"].value_counts()"
   ]
  },
  {
   "cell_type": "code",
   "execution_count": 17,
   "id": "e9302da6",
   "metadata": {},
   "outputs": [
    {
     "data": {
      "text/plain": [
       "parent_education\n",
       "some college          222\n",
       "associate's degree    221\n",
       "high school           191\n",
       "some high school      175\n",
       "bachelor's degree     118\n",
       "master's degree        59\n",
       "Name: count, dtype: int64"
      ]
     },
     "execution_count": 17,
     "metadata": {},
     "output_type": "execute_result"
    }
   ],
   "source": [
    "df[\"parent_education\"].value_counts()"
   ]
  },
  {
   "cell_type": "code",
   "execution_count": 18,
   "id": "ce5b8ab8",
   "metadata": {},
   "outputs": [],
   "source": [
    "from sklearn.preprocessing import LabelEncoder\n",
    "\n",
    "encoder = LabelEncoder()\n",
    "\n",
    "df[\"sex_enc\"] = encoder.fit_transform(df[\"sex\"])\n",
    "df[\"race_enc\"] = encoder.fit_transform(df[\"race\"])\n",
    "df[\"meal_enc\"] = encoder.fit_transform(df[\"meal\"])\n",
    "df[\"test_enc\"] = encoder.fit_transform(df[\"prep_course\"])"
   ]
  },
  {
   "cell_type": "code",
   "execution_count": 19,
   "id": "bf4360d7",
   "metadata": {},
   "outputs": [
    {
     "data": {
      "text/html": [
       "<div>\n",
       "<style scoped>\n",
       "    .dataframe tbody tr th:only-of-type {\n",
       "        vertical-align: middle;\n",
       "    }\n",
       "\n",
       "    .dataframe tbody tr th {\n",
       "        vertical-align: top;\n",
       "    }\n",
       "\n",
       "    .dataframe thead th {\n",
       "        text-align: right;\n",
       "    }\n",
       "</style>\n",
       "<table border=\"1\" class=\"dataframe\">\n",
       "  <thead>\n",
       "    <tr style=\"text-align: right;\">\n",
       "      <th></th>\n",
       "      <th>sex</th>\n",
       "      <th>race</th>\n",
       "      <th>parent_education</th>\n",
       "      <th>meal</th>\n",
       "      <th>prep_course</th>\n",
       "      <th>math_score</th>\n",
       "      <th>reading_score</th>\n",
       "      <th>writing_score</th>\n",
       "      <th>sex_enc</th>\n",
       "      <th>race_enc</th>\n",
       "      <th>meal_enc</th>\n",
       "      <th>test_enc</th>\n",
       "    </tr>\n",
       "  </thead>\n",
       "  <tbody>\n",
       "    <tr>\n",
       "      <th>0</th>\n",
       "      <td>female</td>\n",
       "      <td>group B</td>\n",
       "      <td>bachelor's degree</td>\n",
       "      <td>standard</td>\n",
       "      <td>none</td>\n",
       "      <td>72</td>\n",
       "      <td>72</td>\n",
       "      <td>74</td>\n",
       "      <td>0</td>\n",
       "      <td>1</td>\n",
       "      <td>1</td>\n",
       "      <td>1</td>\n",
       "    </tr>\n",
       "    <tr>\n",
       "      <th>1</th>\n",
       "      <td>female</td>\n",
       "      <td>group C</td>\n",
       "      <td>some college</td>\n",
       "      <td>standard</td>\n",
       "      <td>completed</td>\n",
       "      <td>69</td>\n",
       "      <td>90</td>\n",
       "      <td>88</td>\n",
       "      <td>0</td>\n",
       "      <td>2</td>\n",
       "      <td>1</td>\n",
       "      <td>0</td>\n",
       "    </tr>\n",
       "    <tr>\n",
       "      <th>2</th>\n",
       "      <td>female</td>\n",
       "      <td>group B</td>\n",
       "      <td>master's degree</td>\n",
       "      <td>standard</td>\n",
       "      <td>none</td>\n",
       "      <td>90</td>\n",
       "      <td>95</td>\n",
       "      <td>93</td>\n",
       "      <td>0</td>\n",
       "      <td>1</td>\n",
       "      <td>1</td>\n",
       "      <td>1</td>\n",
       "    </tr>\n",
       "    <tr>\n",
       "      <th>3</th>\n",
       "      <td>male</td>\n",
       "      <td>group A</td>\n",
       "      <td>associate's degree</td>\n",
       "      <td>free/reduced</td>\n",
       "      <td>none</td>\n",
       "      <td>47</td>\n",
       "      <td>57</td>\n",
       "      <td>44</td>\n",
       "      <td>1</td>\n",
       "      <td>0</td>\n",
       "      <td>0</td>\n",
       "      <td>1</td>\n",
       "    </tr>\n",
       "    <tr>\n",
       "      <th>4</th>\n",
       "      <td>male</td>\n",
       "      <td>group C</td>\n",
       "      <td>some college</td>\n",
       "      <td>standard</td>\n",
       "      <td>none</td>\n",
       "      <td>76</td>\n",
       "      <td>78</td>\n",
       "      <td>75</td>\n",
       "      <td>1</td>\n",
       "      <td>2</td>\n",
       "      <td>1</td>\n",
       "      <td>1</td>\n",
       "    </tr>\n",
       "  </tbody>\n",
       "</table>\n",
       "</div>"
      ],
      "text/plain": [
       "      sex     race    parent_education          meal prep_course  math_score  \\\n",
       "0  female  group B   bachelor's degree      standard        none          72   \n",
       "1  female  group C        some college      standard   completed          69   \n",
       "2  female  group B     master's degree      standard        none          90   \n",
       "3    male  group A  associate's degree  free/reduced        none          47   \n",
       "4    male  group C        some college      standard        none          76   \n",
       "\n",
       "   reading_score  writing_score  sex_enc  race_enc  meal_enc  test_enc  \n",
       "0             72             74        0         1         1         1  \n",
       "1             90             88        0         2         1         0  \n",
       "2             95             93        0         1         1         1  \n",
       "3             57             44        1         0         0         1  \n",
       "4             78             75        1         2         1         1  "
      ]
     },
     "execution_count": 19,
     "metadata": {},
     "output_type": "execute_result"
    }
   ],
   "source": [
    "df.head()"
   ]
  },
  {
   "cell_type": "code",
   "execution_count": 21,
   "id": "8d7ff0a6",
   "metadata": {},
   "outputs": [],
   "source": [
    "def min_max_normalization(feature):\n",
    "    global df\n",
    "    min = df[feature].min()\n",
    "    max = df[feature].max()\n",
    "\n",
    "    df[feature] = (df[feature] - min) / (max - min)\n",
    "    "
   ]
  },
  {
   "cell_type": "code",
   "execution_count": 22,
   "id": "79831418",
   "metadata": {},
   "outputs": [],
   "source": [
    "min_max_normalization(\"math_score\")\n",
    "min_max_normalization(\"reading_score\")\n",
    "min_max_normalization(\"writing_score\")"
   ]
  },
  {
   "cell_type": "code",
   "execution_count": 25,
   "id": "ab9b6db9",
   "metadata": {},
   "outputs": [
    {
     "data": {
      "text/plain": [
       "<Axes: ylabel='writing_score'>"
      ]
     },
     "execution_count": 25,
     "metadata": {},
     "output_type": "execute_result"
    },
    {
     "data": {
      "image/png": "[encoded data removed]",
      "text/plain": [
       "<Figure size 1500x500 with 3 Axes>"
      ]
     },
     "metadata": {},
     "output_type": "display_data"
    }
   ],
   "source": [
    "fig,axes = plt.subplots(1,3, figsize=(15,5))\n",
    "\n",
    "sns.boxplot(data=df[\"math_score\"], ax=axes[0])\n",
    "sns.boxplot(data=df[\"reading_score\"], ax=axes[1])\n",
    "sns.boxplot(data=df[\"writing_score\"], ax=axes[2])"
   ]
  }
 ],
 "metadata": {
  "kernelspec": {
   "display_name": "base",
   "language": "python",
   "name": "python3"
  },
  "language_info": {
   "codemirror_mode": {
    "name": "ipython",
    "version": 3
   },
   "file_extension": ".py",
   "mimetype": "text/x-python",
   "name": "python",
   "nbconvert_exporter": "python",
   "pygments_lexer": "ipython3",
   "version": "3.12.7"
  }
 },
 "nbformat": 4,
 "nbformat_minor": 5
}
